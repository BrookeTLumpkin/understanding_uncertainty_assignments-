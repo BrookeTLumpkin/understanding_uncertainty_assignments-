{
 "cells": [
  {
   "cell_type": "markdown",
   "id": "dd21efe9",
   "metadata": {},
   "source": [
    "# Assignment 5\n",
    "### Do all four questions."
   ]
  },
  {
   "cell_type": "markdown",
   "id": "1ee9b4e8",
   "metadata": {},
   "source": [
    "**1.** Let's review some basic matrix multiplication. When you have an $M \\times N$ matrix $A$ with $M$ rows and $N$ columns, \n",
    "$$\n",
    "A= \\left[ \\begin{array}{cccc} a_{11} & a_{12} & ... & a_{1N} \\\\\n",
    "a_{21} & a_{22} & ... & a_{2N} \\\\\n",
    "\\vdots & \\vdots & ... & \\vdots \\\\\n",
    "a_{M1} & a_{M2} & ... & a_{MN} \n",
    "\\end{array} \\right],\n",
    "$$\n",
    "and you right-multiply it by a vector\n",
    "$$\n",
    "x = \\left[ \\begin{array}{c} x_1 \\\\ x_2 \\\\ \\vdots \\\\ x_N \n",
    "\\end{array} \\right],\n",
    "$$\n",
    "you get\n",
    "$$\n",
    "Ax = \\left[ \\begin{array}{c} \\sum_{i=1}^N a_{1i} x_i \\\\ \\sum_{i=1}^N a_{2i} x_i \\\\ \\vdots \\\\ \\sum_{i=1}^N a_{Mi} x_i \n",
    "\\end{array} \\right].\n",
    "$$\n",
    "This is just \"matrix row times column vector\" element-by-element, stacking the results into a new vector.\n",
    "\n",
    "For this to make sense, $N$ must be the same for the matrix and the vector, but $M$ can be different from $N$. \n",
    "\n",
    "Let's play with some NumPy to see this. First we'll define a matrix $A$:"
   ]
  },
  {
   "cell_type": "code",
   "execution_count": 4,
   "id": "33df3579",
   "metadata": {},
   "outputs": [
    {
     "data": {
      "text/plain": [
       "array([[1, 2, 3],\n",
       "       [4, 5, 6],\n",
       "       [7, 8, 9]])"
      ]
     },
     "execution_count": 4,
     "metadata": {},
     "output_type": "execute_result"
    }
   ],
   "source": [
    "import numpy as np\n",
    "\n",
    "A = np.array([ [1,2,3],\n",
    "              [4,5,6],\n",
    "              [7,8,9]])\n",
    "A"
   ]
  },
  {
   "cell_type": "markdown",
   "id": "94b1b3ac",
   "metadata": {},
   "source": [
    "a. Multiply $A$ times each of the following vectors using the @ operator. Explain which part of the $A$ matrix gets selected and explain why, using the definition of matrix multiplication. "
   ]
  },
  {
   "cell_type": "code",
   "execution_count": 5,
   "id": "5b6148d2",
   "metadata": {},
   "outputs": [
    {
     "name": "stdout",
     "output_type": "stream",
     "text": [
      "The first column is selected because the first element of e_1 is 1 and all other elements are 0.\n",
      "Since each row will be a dot product of e_1 and the corresponding row in A, the first row will be:\n",
      "Column 1, row 1 * 1 + column 2, row 1 * 0 + column 3, row 1 * 0 = column 1 row 1 of A\n",
      "[1 4 7]\n",
      "\n",
      "For the exact same reason, this will be the second column:\n",
      "[2 5 8]\n",
      "\n",
      "For the exact same reason, this will be the third column:\n",
      "[3 6 9]\n"
     ]
    }
   ],
   "source": [
    "e_1 = np.array([1,0,0])\n",
    "e_2 = np.array([0,1,0])\n",
    "e_3 = np.array([0,0,1])\n",
    "\n",
    "print(\"The first column is selected because the first element of e_1 is 1 and all other elements are 0.\")\n",
    "print(\"Since each row will be a dot product of e_1 and the corresponding row in A, the first row will be:\")\n",
    "print(\"Column 1, row 1 * 1 + column 2, row 1 * 0 + column 3, row 1 * 0 = column 1 row 1 of A\")\n",
    "print(A @ e_1)\n",
    "print(\"\\nFor the exact same reason, this will be the second column:\")\n",
    "print(A @ e_2)\n",
    "print(\"\\nFor the exact same reason, this will be the third column:\")\n",
    "print(A @ e_3)"
   ]
  },
  {
   "cell_type": "markdown",
   "id": "72a4704e",
   "metadata": {},
   "source": [
    "b. Now multiply $A$ times $u = (1,1,1)$. Explain the logic of the result with the definition of matrix multiplication."
   ]
  },
  {
   "cell_type": "code",
   "execution_count": 6,
   "id": "6aa33fea",
   "metadata": {},
   "outputs": [
    {
     "name": "stdout",
     "output_type": "stream",
     "text": [
      "This multiplication will result in a vector with each of the rows of A added up.\n",
      "This is because this multiplication does a dot product between each row of A and u.\n",
      "[ 6. 15. 24.]\n"
     ]
    }
   ],
   "source": [
    "u = np.ones(3)\n",
    "print(\"This multiplication will result in a vector with each of the rows of A added up.\")\n",
    "print(\"This is because this multiplication does a dot product between each row of A and u.\")\n",
    "print(A @ u)"
   ]
  },
  {
   "cell_type": "code",
   "execution_count": 7,
   "id": "5bf73f9b",
   "metadata": {},
   "outputs": [],
   "source": [
    "u = np.ones(3)"
   ]
  },
  {
   "cell_type": "markdown",
   "id": "dde75eab",
   "metadata": {},
   "source": [
    "c. Whenever a matrix has 1's on the diagonal and zeros everywhere else, we call it an **identity matrix**. What happens when you multiple $A$ times $x$ below? What happens when you multiple an identity matrix times any vector? Explain your result with the definition of matrix multiplication."
   ]
  },
  {
   "cell_type": "code",
   "execution_count": 8,
   "id": "b0d349c4",
   "metadata": {},
   "outputs": [
    {
     "name": "stdout",
     "output_type": "stream",
     "text": [
      "Multiplying any vector by an identity matrix results in the same vector.\n",
      "The is because the element corresponding to position i of the vector is multiplied by the element corresponding to position i of the identity matrix, which is 1 and all other elements in that row are 0.\n",
      "[-2  4 11]\n"
     ]
    }
   ],
   "source": [
    "A = np.array([ [1,0,0],\n",
    "              [0,1,0],\n",
    "              [0,0,1]])\n",
    "x = np.array([-2,4,11])\n",
    "\n",
    "print(\"Multiplying any vector by an identity matrix results in the same vector.\")\n",
    "print(\"The is because the element corresponding to position i of the vector is multiplied by the element corresponding to position i of the identity matrix, which is 1 and all other elements in that row are 0.\")\n",
    "print(A @ x)\n"
   ]
  },
  {
   "cell_type": "markdown",
   "id": "57141925",
   "metadata": {},
   "source": [
    "d. What if every row and column sum to 1, but the 1's are no longer on the diagonal? Multiple $A$ times $X$ below and explain the result. Create another matrix whose rows and columns sum to 1, but is not an identity matrix, and show how it permutes the values of $x$. "
   ]
  },
  {
   "cell_type": "code",
   "execution_count": 9,
   "id": "83a9ed11",
   "metadata": {},
   "outputs": [
    {
     "name": "stdout",
     "output_type": "stream",
     "text": [
      "This will shuffle around the numbers in the vector if there is a 1 in each row and a 1 in each column and 0s everywhere else.\n",
      "Where r is the row and c is the column, having a 1 in the r, c position will result in the c-th element of the vector being placed in the r-th position in the new vector.\n",
      "[11 -2  4]\n",
      "If they sum to 1 but aren't themselves 1, then it will take a weighted average of the elements in the vector, with element i's weight corresponding with the value corresponding to column i in any given row.\n",
      "[2.4 3.1 7.5]\n"
     ]
    }
   ],
   "source": [
    "A = np.array([ [0,0,1],\n",
    "              [1,0,0],\n",
    "              [0,1,0]])\n",
    "x = np.array([-2,4,11])\n",
    "\n",
    "print(\"This will shuffle around the numbers in the vector if there is a 1 in each row and a 1 in each column and 0s everywhere else.\")\n",
    "print(\"Where r is the row and c is the column, having a 1 in the r, c position will result in the c-th element of the vector being placed in the r-th position in the new vector.\")\n",
    "print(A @ x)\n",
    "print(\"If they sum to 1 but aren't themselves 1, then it will take a weighted average of the elements in the vector,\" \\\n",
    "\" with element i's weight corresponding with the value corresponding to column i in any given row.\")\n",
    "A = np.array([ [0.5,0.3,0.2],\n",
    "              [0.5,0.2,0.3],\n",
    "              [0,0.5,0.5]])\n",
    "print(A @ x)\n"
   ]
  },
  {
   "cell_type": "markdown",
   "id": "611c26c3",
   "metadata": {},
   "source": [
    "e. The next matrix $A$ could be a Markov transition matrix: Its columns sum to 1, and each entry $a_{ij}$ can be interpreted as the proportion of observations who moved from state $j$ to state $i$. Multiply $A$ by each of the vectors $e_1$, $e_2$, and $e_3$, and explain your results."
   ]
  },
  {
   "cell_type": "code",
   "execution_count": 10,
   "id": "aff4fb97",
   "metadata": {},
   "outputs": [
    {
     "name": "stdout",
     "output_type": "stream",
     "text": [
      "[[0.50052958 0.24049286 0.18358131]\n",
      " [0.02574731 0.39251588 0.37907577]\n",
      " [0.47372311 0.36699127 0.43734292]]\n"
     ]
    }
   ],
   "source": [
    "rng = np.random.default_rng(100)\n",
    "A = rng.random((3,3)) # Generate a random 3X3 matrix\n",
    "sums = np.sum(A,axis=0) # Column sums\n",
    "A = A/sums # Normalize the columns so they sum to 1\n",
    "print(A)"
   ]
  },
  {
   "cell_type": "code",
   "execution_count": 11,
   "id": "9fe8815b",
   "metadata": {},
   "outputs": [
    {
     "name": "stdout",
     "output_type": "stream",
     "text": [
      "[0.50052958 0.02574731 0.47372311]\n",
      "[0.24049286 0.39251588 0.36699127]\n",
      "[0.18358131 0.37907577 0.43734292]\n",
      "Each row of the resultant vectors is the probability of transitioning from position i to each position in the state space from position i where i is the element of the e_i that is 1.\n"
     ]
    }
   ],
   "source": [
    "print(A @ e_1)\n",
    "print(A @ e_2)\n",
    "print(A @ e_3)\n",
    "print(\"Each row of the resultant vectors is the probability of transitioning from position i to each position in the state space\" \\\n",
    "\" from position i where i is the element of the e_i that is 1.\")"
   ]
  },
  {
   "cell_type": "markdown",
   "id": "0647bfa7",
   "metadata": {},
   "source": [
    "f. For each of the vectors $e_1, e_2, e_3$, multiple $A$ times that vector 5 times. What answer do you get for each starting vector? Describe the behavior you observe."
   ]
  },
  {
   "cell_type": "code",
   "execution_count": 12,
   "id": "dd0c48ed",
   "metadata": {},
   "outputs": [
    {
     "name": "stdout",
     "output_type": "stream",
     "text": [
      "[0.29266551 0.27862515 0.42870935]\n",
      "[0.29197422 0.27979983 0.42822595]\n",
      "[0.29171646 0.2802254  0.42805814]\n",
      "As you add more iterations, the vectors seem to converge to the same stable state likelihood.\n"
     ]
    }
   ],
   "source": [
    "e = e_1\n",
    "for i in range(5):\n",
    "    e = A @ e\n",
    "print(e)\n",
    "\n",
    "e = e_2\n",
    "for i in range(5):\n",
    "    e = A @ e\n",
    "print(e)\n",
    "\n",
    "e = e_3\n",
    "for i in range(5):\n",
    "    e = A @ e\n",
    "print(e)\n",
    "\n",
    "print(\"As you add more iterations, the vectors seem to converge to the same stable state likelihood.\")"
   ]
  },
  {
   "cell_type": "markdown",
   "id": "fa2c9a93",
   "metadata": {},
   "source": [
    "*2.* Let's consider a simple Markov transition matrix over two states:\n",
    "$$\n",
    "T = \\left[ \\begin{array}{cc} p_{1\\leftarrow 1} &  p_{1\\leftarrow 2} \\\\\n",
    "p_{2 \\leftarrow 1} & p_{2 \\leftarrow 2} \\end{array}\\right] \n",
    "$$\n",
    "The arrows help visualize the transition a bit: This is the same index notation as usual, $p_{ij}$, but writing it $p_{i \\leftarrow j}$ emphasizes that it's the proportion of times that state $j$ transitions to state $i$. Below, $T$ is given by\n",
    "$$\n",
    "T = \\left[ \\begin{array}{cc} .25 & .5 \\\\\n",
    ".75 & .5 \\end{array}\\right].\n",
    "$$\n",
    "\n",
    "- Start in state 1, at the initial condition $[1,0]$. Multiply that vector by $T$. Write out the result in terms of the formula and compute the result in a code chunk below. What is this object you're looking at, in terms of proportions and transitions?\n",
    "- Multiple by $T$ again. What do you get? This isn't a column of $T$. Explain in words what it is. (Hint: A forecast of what in what period?)\n",
    "- Keep multiplying the current vector of outcomes by $T$. When does it start to settle down without changing further?\n",
    "- Do the above analysis again, starting from the initial condition $[0,1]$. Do you get a different result?\n",
    "- The take-away is that, in the long run, these chains settle down into the long-run proportions, and the sensitivity on initial conditions vanishes. \n"
   ]
  },
  {
   "cell_type": "code",
   "execution_count": 13,
   "id": "4b6a775f",
   "metadata": {},
   "outputs": [
    {
     "name": "stdout",
     "output_type": "stream",
     "text": [
      "A@[1,0]\n",
      "[0.25 0.75]\n",
      "A^2@[1,0]\n",
      "[0.4375 0.5625]\n",
      "A^2@[1,0]\n",
      "29\n",
      "The number of iterations required to converge to the same stable state is  28\n",
      "The (stable) state at 29 is  [0.4 0.6]\n",
      "The (stable) state at 28 is  [0.4 0.6]\n",
      "\n",
      "Convergence from [0,1]:\n",
      "29\n",
      "The number of iterations required to converge to the same stable state is  28\n",
      "The (stable) state at 29 is  [0.4 0.6]\n",
      "The (stable) state at 28 is  [0.4 0.6]\n"
     ]
    }
   ],
   "source": [
    "T = np.array([[ 1/4, 1/2],\n",
    "                 [ 3/4, 1/2 ]])\n",
    "print(\"A@[1,0]\")\n",
    "print(T @ np.array([1, 0]))\n",
    "print(\"A^2@[1,0]\")\n",
    "print(T @ T @ np.array([1, 0]))\n",
    "print(\"A^2@[1,0]\")\n",
    "def exp_matmul(T, n):\n",
    "    if n == 0:\n",
    "        return np.array([1, 0])\n",
    "    else:\n",
    "        return T @ exp_matmul(T, n-1)\n",
    "n = 2\n",
    "while True:\n",
    "    if (exp_matmul(T, n) == exp_matmul(T, n-1)).all():\n",
    "        print(n)\n",
    "        break\n",
    "    n += 1\n",
    "print(\"The number of iterations required to converge to the same stable state is \", n-1)\n",
    "print(f\"The (stable) state at {n} is \", exp_matmul(T, n))\n",
    "print(f\"The (stable) state at {n-1} is \", exp_matmul(T, n-1))\n",
    "\n",
    "print(\"\\nConvergence from [0,1]:\")\n",
    "def exp_matmul(T, n):\n",
    "    if n == 0:\n",
    "        return np.array([0, 1])\n",
    "    else:\n",
    "        return T @ exp_matmul(T, n-1)\n",
    "n = 2\n",
    "while True:\n",
    "    if (exp_matmul(T, n) == exp_matmul(T, n-1)).all():\n",
    "        print(n)\n",
    "        break\n",
    "    n += 1\n",
    "print(\"The number of iterations required to converge to the same stable state is \", n-1)\n",
    "print(f\"The (stable) state at {n} is \", exp_matmul(T, n))\n",
    "print(f\"The (stable) state at {n-1} is \", exp_matmul(T, n-1))"
   ]
  },
  {
   "cell_type": "markdown",
   "id": "921592e9",
   "metadata": {},
   "source": [
    "3. Weather data\n",
    "\n",
    "- Load the `cville_weather.csv` data. This includes data from Jan 4, 2024 to Feb 2, 2025. Are there any missing data issues?\n",
    "- Based on the precipitation variable, `PRCP`, make a new variable called `rain` that takes the value 1 if `PRCP`>0 and 0 otherwise.\n",
    "- Build a two-state Markov chain over the states 0 and 1 for the `rain` variable. \n",
    "- For your chain from c, how likely is it to rain if it was rainy yesterday? How likely is it to rain if it was clear yesterday?\n",
    "- Starting from a clear day, forecast the distribution. How quickly does it converge to a fixed result? What if you start from a rainy day?\n",
    "- Conditional on being rainy, plot a KDE of the `PRCP` variable.\n",
    "- Describe one way of making your model better for forecasting and simulation the weather.\n",
    "\n",
    "Congratulations, you now are a non-parametric meteorologist!"
   ]
  },
  {
   "cell_type": "markdown",
   "id": "b5c55df8",
   "metadata": {},
   "source": [
    "### Load the `cville_weather.csv` data. This includes data from Jan 4, 2024 to Feb 2, 2025. Are there any missing data issues?"
   ]
  },
  {
   "cell_type": "code",
   "execution_count": 14,
   "id": "cd7e76b4",
   "metadata": {},
   "outputs": [
    {
     "data": {
      "text/html": [
       "<div>\n",
       "<style scoped>\n",
       "    .dataframe tbody tr th:only-of-type {\n",
       "        vertical-align: middle;\n",
       "    }\n",
       "\n",
       "    .dataframe tbody tr th {\n",
       "        vertical-align: top;\n",
       "    }\n",
       "\n",
       "    .dataframe thead th {\n",
       "        text-align: right;\n",
       "    }\n",
       "</style>\n",
       "<table border=\"1\" class=\"dataframe\">\n",
       "  <thead>\n",
       "    <tr style=\"text-align: right;\">\n",
       "      <th></th>\n",
       "      <th>0</th>\n",
       "      <th>1</th>\n",
       "      <th>271</th>\n",
       "    </tr>\n",
       "  </thead>\n",
       "  <tbody>\n",
       "    <tr>\n",
       "      <th>STATION</th>\n",
       "      <td>US1VACRC002</td>\n",
       "      <td>US1VACRC002</td>\n",
       "      <td>US1VAAB0010</td>\n",
       "    </tr>\n",
       "    <tr>\n",
       "      <th>NAME</th>\n",
       "      <td>CHARLOTTESVILLE 0.5 NNE, VA US</td>\n",
       "      <td>CHARLOTTESVILLE 0.5 NNE, VA US</td>\n",
       "      <td>CHARLOTTESVILLE 8.4 W, VA US</td>\n",
       "    </tr>\n",
       "    <tr>\n",
       "      <th>DATE</th>\n",
       "      <td>2024-01-04</td>\n",
       "      <td>2024-01-07</td>\n",
       "      <td>2024-01-08</td>\n",
       "    </tr>\n",
       "    <tr>\n",
       "      <th>DAPR</th>\n",
       "      <td>NaN</td>\n",
       "      <td>NaN</td>\n",
       "      <td>NaN</td>\n",
       "    </tr>\n",
       "    <tr>\n",
       "      <th>DAPR_ATTRIBUTES</th>\n",
       "      <td>NaN</td>\n",
       "      <td>NaN</td>\n",
       "      <td>NaN</td>\n",
       "    </tr>\n",
       "    <tr>\n",
       "      <th>MDPR</th>\n",
       "      <td>NaN</td>\n",
       "      <td>NaN</td>\n",
       "      <td>NaN</td>\n",
       "    </tr>\n",
       "    <tr>\n",
       "      <th>MDPR_ATTRIBUTES</th>\n",
       "      <td>NaN</td>\n",
       "      <td>NaN</td>\n",
       "      <td>NaN</td>\n",
       "    </tr>\n",
       "    <tr>\n",
       "      <th>PRCP</th>\n",
       "      <td>0.03</td>\n",
       "      <td>1.08</td>\n",
       "      <td>0.0</td>\n",
       "    </tr>\n",
       "    <tr>\n",
       "      <th>PRCP_ATTRIBUTES</th>\n",
       "      <td>,,N</td>\n",
       "      <td>,,N</td>\n",
       "      <td>,,N</td>\n",
       "    </tr>\n",
       "    <tr>\n",
       "      <th>SNOW</th>\n",
       "      <td>NaN</td>\n",
       "      <td>NaN</td>\n",
       "      <td>0.0</td>\n",
       "    </tr>\n",
       "    <tr>\n",
       "      <th>SNOW_ATTRIBUTES</th>\n",
       "      <td>NaN</td>\n",
       "      <td>NaN</td>\n",
       "      <td>,,N</td>\n",
       "    </tr>\n",
       "    <tr>\n",
       "      <th>SNWD</th>\n",
       "      <td>NaN</td>\n",
       "      <td>NaN</td>\n",
       "      <td>NaN</td>\n",
       "    </tr>\n",
       "    <tr>\n",
       "      <th>SNWD_ATTRIBUTES</th>\n",
       "      <td>NaN</td>\n",
       "      <td>NaN</td>\n",
       "      <td>NaN</td>\n",
       "    </tr>\n",
       "  </tbody>\n",
       "</table>\n",
       "</div>"
      ],
      "text/plain": [
       "                                            0    \\\n",
       "STATION                             US1VACRC002   \n",
       "NAME             CHARLOTTESVILLE 0.5 NNE, VA US   \n",
       "DATE                                 2024-01-04   \n",
       "DAPR                                        NaN   \n",
       "DAPR_ATTRIBUTES                             NaN   \n",
       "MDPR                                        NaN   \n",
       "MDPR_ATTRIBUTES                             NaN   \n",
       "PRCP                                       0.03   \n",
       "PRCP_ATTRIBUTES                             ,,N   \n",
       "SNOW                                        NaN   \n",
       "SNOW_ATTRIBUTES                             NaN   \n",
       "SNWD                                        NaN   \n",
       "SNWD_ATTRIBUTES                             NaN   \n",
       "\n",
       "                                            1                             271  \n",
       "STATION                             US1VACRC002                   US1VAAB0010  \n",
       "NAME             CHARLOTTESVILLE 0.5 NNE, VA US  CHARLOTTESVILLE 8.4 W, VA US  \n",
       "DATE                                 2024-01-07                    2024-01-08  \n",
       "DAPR                                        NaN                           NaN  \n",
       "DAPR_ATTRIBUTES                             NaN                           NaN  \n",
       "MDPR                                        NaN                           NaN  \n",
       "MDPR_ATTRIBUTES                             NaN                           NaN  \n",
       "PRCP                                       1.08                           0.0  \n",
       "PRCP_ATTRIBUTES                             ,,N                           ,,N  \n",
       "SNOW                                        NaN                           0.0  \n",
       "SNOW_ATTRIBUTES                             NaN                           ,,N  \n",
       "SNWD                                        NaN                           NaN  \n",
       "SNWD_ATTRIBUTES                             NaN                           NaN  "
      ]
     },
     "execution_count": 14,
     "metadata": {},
     "output_type": "execute_result"
    }
   ],
   "source": [
    "import os\n",
    "import pandas as pd\n",
    "\n",
    "os.chdir(\"/Users/brookeLumpkin/Documents/GitHub/understanding_uncertainty_assignments\")\n",
    "df = pd.read_csv(\"cville_weather.csv\")\n",
    "df = df.sort_values(by=\"DATE\")\n",
    "df.head(3).T"
   ]
  },
  {
   "cell_type": "code",
   "execution_count": 15,
   "id": "0c3e6b8d",
   "metadata": {},
   "outputs": [
    {
     "name": "stdout",
     "output_type": "stream",
     "text": [
      "STATION 0\n",
      "NAME 0\n",
      "DATE 0\n",
      "DAPR 399\n",
      "DAPR_ATTRIBUTES 399\n",
      "MDPR 399\n",
      "MDPR_ATTRIBUTES 399\n",
      "PRCP 12\n",
      "PRCP_ATTRIBUTES 12\n",
      "SNOW 188\n",
      "SNOW_ATTRIBUTES 188\n",
      "SNWD 410\n",
      "SNWD_ATTRIBUTES 410\n",
      "\n",
      "There seems to be significant missing data issues :(\n"
     ]
    }
   ],
   "source": [
    "# Count missing values in all columns separately\n",
    "for col in df.columns:\n",
    "    print(col, df[col].isna().sum())\n",
    "print(\"\\nThere seems to be significant missing data issues :(\")"
   ]
  },
  {
   "cell_type": "markdown",
   "id": "e640159d",
   "metadata": {},
   "source": [
    "### Based on the precipitation variable, `PRCP`, make a new variable called `rain` that takes the value 1 if `PRCP`>0 and 0 otherwise."
   ]
  },
  {
   "cell_type": "code",
   "execution_count": 16,
   "id": "ccd79935",
   "metadata": {},
   "outputs": [
    {
     "data": {
      "text/html": [
       "<div>\n",
       "<style scoped>\n",
       "    .dataframe tbody tr th:only-of-type {\n",
       "        vertical-align: middle;\n",
       "    }\n",
       "\n",
       "    .dataframe tbody tr th {\n",
       "        vertical-align: top;\n",
       "    }\n",
       "\n",
       "    .dataframe thead th {\n",
       "        text-align: right;\n",
       "    }\n",
       "</style>\n",
       "<table border=\"1\" class=\"dataframe\">\n",
       "  <thead>\n",
       "    <tr style=\"text-align: right;\">\n",
       "      <th></th>\n",
       "      <th>0</th>\n",
       "      <th>1</th>\n",
       "      <th>271</th>\n",
       "    </tr>\n",
       "  </thead>\n",
       "  <tbody>\n",
       "    <tr>\n",
       "      <th>STATION</th>\n",
       "      <td>US1VACRC002</td>\n",
       "      <td>US1VACRC002</td>\n",
       "      <td>US1VAAB0010</td>\n",
       "    </tr>\n",
       "    <tr>\n",
       "      <th>NAME</th>\n",
       "      <td>CHARLOTTESVILLE 0.5 NNE, VA US</td>\n",
       "      <td>CHARLOTTESVILLE 0.5 NNE, VA US</td>\n",
       "      <td>CHARLOTTESVILLE 8.4 W, VA US</td>\n",
       "    </tr>\n",
       "    <tr>\n",
       "      <th>DATE</th>\n",
       "      <td>2024-01-04</td>\n",
       "      <td>2024-01-07</td>\n",
       "      <td>2024-01-08</td>\n",
       "    </tr>\n",
       "    <tr>\n",
       "      <th>DAPR</th>\n",
       "      <td>NaN</td>\n",
       "      <td>NaN</td>\n",
       "      <td>NaN</td>\n",
       "    </tr>\n",
       "    <tr>\n",
       "      <th>DAPR_ATTRIBUTES</th>\n",
       "      <td>NaN</td>\n",
       "      <td>NaN</td>\n",
       "      <td>NaN</td>\n",
       "    </tr>\n",
       "    <tr>\n",
       "      <th>MDPR</th>\n",
       "      <td>NaN</td>\n",
       "      <td>NaN</td>\n",
       "      <td>NaN</td>\n",
       "    </tr>\n",
       "    <tr>\n",
       "      <th>MDPR_ATTRIBUTES</th>\n",
       "      <td>NaN</td>\n",
       "      <td>NaN</td>\n",
       "      <td>NaN</td>\n",
       "    </tr>\n",
       "    <tr>\n",
       "      <th>PRCP</th>\n",
       "      <td>0.03</td>\n",
       "      <td>1.08</td>\n",
       "      <td>0.0</td>\n",
       "    </tr>\n",
       "    <tr>\n",
       "      <th>PRCP_ATTRIBUTES</th>\n",
       "      <td>,,N</td>\n",
       "      <td>,,N</td>\n",
       "      <td>,,N</td>\n",
       "    </tr>\n",
       "    <tr>\n",
       "      <th>SNOW</th>\n",
       "      <td>NaN</td>\n",
       "      <td>NaN</td>\n",
       "      <td>0.0</td>\n",
       "    </tr>\n",
       "    <tr>\n",
       "      <th>SNOW_ATTRIBUTES</th>\n",
       "      <td>NaN</td>\n",
       "      <td>NaN</td>\n",
       "      <td>,,N</td>\n",
       "    </tr>\n",
       "    <tr>\n",
       "      <th>SNWD</th>\n",
       "      <td>NaN</td>\n",
       "      <td>NaN</td>\n",
       "      <td>NaN</td>\n",
       "    </tr>\n",
       "    <tr>\n",
       "      <th>SNWD_ATTRIBUTES</th>\n",
       "      <td>NaN</td>\n",
       "      <td>NaN</td>\n",
       "      <td>NaN</td>\n",
       "    </tr>\n",
       "    <tr>\n",
       "      <th>rain</th>\n",
       "      <td>1</td>\n",
       "      <td>1</td>\n",
       "      <td>0</td>\n",
       "    </tr>\n",
       "  </tbody>\n",
       "</table>\n",
       "</div>"
      ],
      "text/plain": [
       "                                            0    \\\n",
       "STATION                             US1VACRC002   \n",
       "NAME             CHARLOTTESVILLE 0.5 NNE, VA US   \n",
       "DATE                                 2024-01-04   \n",
       "DAPR                                        NaN   \n",
       "DAPR_ATTRIBUTES                             NaN   \n",
       "MDPR                                        NaN   \n",
       "MDPR_ATTRIBUTES                             NaN   \n",
       "PRCP                                       0.03   \n",
       "PRCP_ATTRIBUTES                             ,,N   \n",
       "SNOW                                        NaN   \n",
       "SNOW_ATTRIBUTES                             NaN   \n",
       "SNWD                                        NaN   \n",
       "SNWD_ATTRIBUTES                             NaN   \n",
       "rain                                          1   \n",
       "\n",
       "                                            1                             271  \n",
       "STATION                             US1VACRC002                   US1VAAB0010  \n",
       "NAME             CHARLOTTESVILLE 0.5 NNE, VA US  CHARLOTTESVILLE 8.4 W, VA US  \n",
       "DATE                                 2024-01-07                    2024-01-08  \n",
       "DAPR                                        NaN                           NaN  \n",
       "DAPR_ATTRIBUTES                             NaN                           NaN  \n",
       "MDPR                                        NaN                           NaN  \n",
       "MDPR_ATTRIBUTES                             NaN                           NaN  \n",
       "PRCP                                       1.08                           0.0  \n",
       "PRCP_ATTRIBUTES                             ,,N                           ,,N  \n",
       "SNOW                                        NaN                           0.0  \n",
       "SNOW_ATTRIBUTES                             NaN                           ,,N  \n",
       "SNWD                                        NaN                           NaN  \n",
       "SNWD_ATTRIBUTES                             NaN                           NaN  \n",
       "rain                                          1                             0  "
      ]
     },
     "execution_count": 16,
     "metadata": {},
     "output_type": "execute_result"
    }
   ],
   "source": [
    "df['rain'] = df['PRCP'] > 0\n",
    "df['rain'] = df['rain'].astype(int)\n",
    "df.head(3).T"
   ]
  },
  {
   "cell_type": "markdown",
   "id": "b002eebe",
   "metadata": {},
   "source": [
    "### Build a two-state Markov chain over the states 0 and 1 for the `rain` variable. "
   ]
  },
  {
   "cell_type": "code",
   "execution_count": 17,
   "id": "0b4baf7d",
   "metadata": {},
   "outputs": [
    {
     "data": {
      "text/plain": [
       "array([[0.76293103, 0.30898876],\n",
       "       [0.23706897, 0.69101124]])"
      ]
     },
     "execution_count": 17,
     "metadata": {},
     "output_type": "execute_result"
    }
   ],
   "source": [
    "df_rain_transitions = pd.crosstab(df['rain'].shift(1), df['rain'])\n",
    "T = df_rain_transitions.div(df_rain_transitions.sum(axis=1), axis=0)\n",
    "T = (T.values).T\n",
    "T"
   ]
  },
  {
   "cell_type": "markdown",
   "id": "b9719174",
   "metadata": {},
   "source": [
    "### For your chain from c, how likely is it to rain if it was rainy yesterday? How likely is it to rain if it was clear yesterday?"
   ]
  },
  {
   "cell_type": "code",
   "execution_count": 18,
   "id": "e1df9bae",
   "metadata": {},
   "outputs": [
    {
     "name": "stdout",
     "output_type": "stream",
     "text": [
      "Odds of rain if it rained yesterday:  0.6910112359550562\n",
      "Odds of rain if it did not rain yesterday:  0.23706896551724138\n"
     ]
    }
   ],
   "source": [
    "print(\"Odds of rain if it rained yesterday: \", T[1][1])\n",
    "print(\"Odds of rain if it did not rain yesterday: \", T[1][0])"
   ]
  },
  {
   "cell_type": "markdown",
   "id": "90f29e83",
   "metadata": {},
   "source": [
    "### Starting from a clear day, forecast the distribution. How quickly does it converge to a fixed result? What if you start from a rainy day?"
   ]
  },
  {
   "cell_type": "code",
   "execution_count": 19,
   "id": "63945836",
   "metadata": {},
   "outputs": [
    {
     "name": "stdout",
     "output_type": "stream",
     "text": [
      "\n",
      "Convergence from rainy day:\n",
      "The number of iterations required to converge to the same stable state is  47\n",
      "The (stable) state at 48 is  [0.56585366 0.43414634]\n",
      "The (stable) state at 47 is  [0.56585366 0.43414634]\n",
      "\n",
      "Convergence from non-rainy day:\n",
      "The number of iterations required to converge to the same stable state is  48\n",
      "The (stable) state at 49 is  [0.56585366 0.43414634]\n",
      "The (stable) state at 48 is  [0.56585366 0.43414634]\n"
     ]
    }
   ],
   "source": [
    "print(\"\\nConvergence from rainy day:\")\n",
    "def exp_matmul(T, n, init_state):\n",
    "    if n == 0:\n",
    "        return init_state\n",
    "    else:\n",
    "        return T @ exp_matmul(T, n-1, init_state)\n",
    "n = 2\n",
    "while True:\n",
    "    if (exp_matmul(T, n, np.array([0, 1])) == exp_matmul(T, n-1, np.array([0, 1]))).all():\n",
    "        break\n",
    "    n += 1\n",
    "print(\"The number of iterations required to converge to the same stable state is \", n-1)\n",
    "print(f\"The (stable) state at {n} is \", exp_matmul(T, n, np.array([0, 1])))\n",
    "print(f\"The (stable) state at {n-1} is \", exp_matmul(T, n-1, np.array([0, 1])))\n",
    "\n",
    "print(\"\\nConvergence from non-rainy day:\")\n",
    "n = 2\n",
    "while True:\n",
    "    if (exp_matmul(T, n, np.array([1, 0])) == exp_matmul(T, n-1, np.array([1, 0]))).all():\n",
    "        break\n",
    "    n += 1\n",
    "print(\"The number of iterations required to converge to the same stable state is \", n-1)\n",
    "print(f\"The (stable) state at {n} is \", exp_matmul(T, n, np.array([1, 0])))\n",
    "print(f\"The (stable) state at {n-1} is \", exp_matmul(T, n-1, np.array([1, 0])))"
   ]
  },
  {
   "cell_type": "markdown",
   "id": "dd242563",
   "metadata": {},
   "source": [
    "### Conditional on being rainy, plot a KDE of the `PRCP` variable."
   ]
  },
  {
   "cell_type": "code",
   "execution_count": 20,
   "id": "5d8d8d23",
   "metadata": {},
   "outputs": [
    {
     "data": {
      "text/plain": [
       "<Axes: xlabel='PRCP', ylabel='Density'>"
      ]
     },
     "execution_count": 20,
     "metadata": {},
     "output_type": "execute_result"
    },
    {
     "data": {
      "image/png": "[encoded data removed]",
      "text/plain": [
       "<Figure size 640x480 with 1 Axes>"
      ]
     },
     "metadata": {},
     "output_type": "display_data"
    }
   ],
   "source": [
    "import seaborn as sns\n",
    "df_rained = df[df['rain'] == 1]\n",
    "sns.kdeplot(df_rained['PRCP'])"
   ]
  },
  {
   "cell_type": "markdown",
   "id": "15613864",
   "metadata": {},
   "source": [
    "### Describe one way of making your model better for forecasting and simulation the weather."
   ]
  },
  {
   "cell_type": "markdown",
   "id": "954d21c8",
   "metadata": {},
   "source": [
    "I would apply an n-gram approach, where each state represents a sequence of previous observations. This way, we'd use information from both today's and yesterday's weather to forecast conditions for the following days. \n",
    "\n",
    "Another option would be to divide the dataset into four seasonal groups and develop a seperate model for each season, allowing the predictions to better reflect seasonal patterns. "
   ]
  },
  {
   "cell_type": "markdown",
   "id": "b953c2c4",
   "metadata": {},
   "source": [
    "4. Taxicab trajectories: Using the pickled taxicab data, we want to complete the exercise from class.\n",
    "\n",
    "- For the taxicab trajectory data, determine your state space and clean your sequences of cab rides.\n",
    "- Compute the transition matrix for the taxicab data between neighborhoods in Manhattan. Plot it in a heat map. What are the most common routes?\n",
    "- Explain why taxicabs are most likely order 1, and not 2 or more.\n",
    "- Starting at Hell's Kitchen, create a sequence of forecasts of where the cab is likely to be in 2, 3, 5, and 10 trips\n",
    "- Starting at any neighborhood, iterate your forecast until it is no longer changing very much. Where do cabs spend most of their time working in Manhattan?"
   ]
  },
  {
   "cell_type": "code",
   "execution_count": 21,
   "id": "56b0937b",
   "metadata": {},
   "outputs": [
    {
     "ename": "FileNotFoundError",
     "evalue": "[Errno 2] No such file or directory: '../data/taxicab.pkl'",
     "output_type": "error",
     "traceback": [
      "\u001b[31m---------------------------------------------------------------------------\u001b[39m",
      "\u001b[31mFileNotFoundError\u001b[39m                         Traceback (most recent call last)",
      "\u001b[36mCell\u001b[39m\u001b[36m \u001b[39m\u001b[32mIn[21]\u001b[39m\u001b[32m, line 7\u001b[39m\n\u001b[32m      3\u001b[39m \u001b[38;5;28;01mimport\u001b[39;00m\u001b[38;5;250m \u001b[39m\u001b[34;01mpandas\u001b[39;00m\u001b[38;5;250m \u001b[39m\u001b[38;5;28;01mas\u001b[39;00m\u001b[38;5;250m \u001b[39m\u001b[34;01mpd\u001b[39;00m\n\u001b[32m      5\u001b[39m filepath = \u001b[33m\"\u001b[39m\u001b[33m../data/taxicab.pkl\u001b[39m\u001b[33m\"\u001b[39m\n\u001b[32m----> \u001b[39m\u001b[32m7\u001b[39m \u001b[38;5;28;01mwith\u001b[39;00m \u001b[38;5;28;43mopen\u001b[39;49m\u001b[43m(\u001b[49m\u001b[43mfilepath\u001b[49m\u001b[43m,\u001b[49m\u001b[43m \u001b[49m\u001b[33;43m\"\u001b[39;49m\u001b[33;43mrb\u001b[39;49m\u001b[33;43m\"\u001b[39;49m\u001b[43m)\u001b[49m \u001b[38;5;28;01mas\u001b[39;00m file:\n\u001b[32m      8\u001b[39m     data = pickle.load(file)\n\u001b[32m     10\u001b[39m \u001b[38;5;28mprint\u001b[39m(\u001b[38;5;28mlen\u001b[39m(data))\n",
      "\u001b[36mFile \u001b[39m\u001b[32m/opt/miniconda3/lib/python3.13/site-packages/IPython/core/interactiveshell.py:343\u001b[39m, in \u001b[36m_modified_open\u001b[39m\u001b[34m(file, *args, **kwargs)\u001b[39m\n\u001b[32m    336\u001b[39m \u001b[38;5;28;01mif\u001b[39;00m file \u001b[38;5;129;01min\u001b[39;00m {\u001b[32m0\u001b[39m, \u001b[32m1\u001b[39m, \u001b[32m2\u001b[39m}:\n\u001b[32m    337\u001b[39m     \u001b[38;5;28;01mraise\u001b[39;00m \u001b[38;5;167;01mValueError\u001b[39;00m(\n\u001b[32m    338\u001b[39m         \u001b[33mf\u001b[39m\u001b[33m\"\u001b[39m\u001b[33mIPython won\u001b[39m\u001b[33m'\u001b[39m\u001b[33mt let you open fd=\u001b[39m\u001b[38;5;132;01m{\u001b[39;00mfile\u001b[38;5;132;01m}\u001b[39;00m\u001b[33m by default \u001b[39m\u001b[33m\"\u001b[39m\n\u001b[32m    339\u001b[39m         \u001b[33m\"\u001b[39m\u001b[33mas it is likely to crash IPython. If you know what you are doing, \u001b[39m\u001b[33m\"\u001b[39m\n\u001b[32m    340\u001b[39m         \u001b[33m\"\u001b[39m\u001b[33myou can use builtins\u001b[39m\u001b[33m'\u001b[39m\u001b[33m open.\u001b[39m\u001b[33m\"\u001b[39m\n\u001b[32m    341\u001b[39m     )\n\u001b[32m--> \u001b[39m\u001b[32m343\u001b[39m \u001b[38;5;28;01mreturn\u001b[39;00m \u001b[43mio_open\u001b[49m\u001b[43m(\u001b[49m\u001b[43mfile\u001b[49m\u001b[43m,\u001b[49m\u001b[43m \u001b[49m\u001b[43m*\u001b[49m\u001b[43margs\u001b[49m\u001b[43m,\u001b[49m\u001b[43m \u001b[49m\u001b[43m*\u001b[49m\u001b[43m*\u001b[49m\u001b[43mkwargs\u001b[49m\u001b[43m)\u001b[49m\n",
      "\u001b[31mFileNotFoundError\u001b[39m: [Errno 2] No such file or directory: '../data/taxicab.pkl'"
     ]
    }
   ],
   "source": [
    "# step 0, load the pkl data\n",
    "import pickle\n",
    "import pandas as pd\n",
    "\n",
    "filepath = \"../data/taxicab.pkl\"\n",
    "\n",
    "with open(filepath, \"rb\") as file:\n",
    "    data = pickle.load(file)\n",
    "\n",
    "print(len(data))\n",
    "data[0]\n",
    "\n",
    "# type(data)     # data is a list\n",
    "# data[0]        # each row is a series\n"
   ]
  },
  {
   "cell_type": "code",
   "execution_count": 22,
   "id": "6285d6eb",
   "metadata": {},
   "outputs": [
    {
     "ename": "NameError",
     "evalue": "name 'data' is not defined",
     "output_type": "error",
     "traceback": [
      "\u001b[31m---------------------------------------------------------------------------\u001b[39m",
      "\u001b[31mNameError\u001b[39m                                 Traceback (most recent call last)",
      "\u001b[36mCell\u001b[39m\u001b[36m \u001b[39m\u001b[32mIn[22]\u001b[39m\u001b[32m, line 2\u001b[39m\n\u001b[32m      1\u001b[39m \u001b[38;5;66;03m# step 1: establish state space\u001b[39;00m\n\u001b[32m----> \u001b[39m\u001b[32m2\u001b[39m states = \u001b[38;5;28mset\u001b[39m(\u001b[43mdata\u001b[49m[\u001b[32m0\u001b[39m])\n\u001b[32m      4\u001b[39m \u001b[38;5;28;01mfor\u001b[39;00m i \u001b[38;5;129;01min\u001b[39;00m \u001b[38;5;28mrange\u001b[39m(\u001b[38;5;28mlen\u001b[39m(data)):\n\u001b[32m      5\u001b[39m     trip_i = \u001b[38;5;28mset\u001b[39m(data[i])\n",
      "\u001b[31mNameError\u001b[39m: name 'data' is not defined"
     ]
    }
   ],
   "source": [
    "# step 1: establish state space\n",
    "states = set(data[0])\n",
    "\n",
    "for i in range(len(data)):\n",
    "    trip_i = set(data[i])\n",
    "    states = states.union(trip_i)\n",
    "\n",
    "#print(states)\n",
    "#print(len(states)) # 38 items\n",
    "\n",
    "states = list(states)\n",
    "print(states)"
   ]
  },
  {
   "cell_type": "code",
   "execution_count": 23,
   "id": "cc5dbc82",
   "metadata": {},
   "outputs": [
    {
     "ename": "NameError",
     "evalue": "name 'states' is not defined",
     "output_type": "error",
     "traceback": [
      "\u001b[31m---------------------------------------------------------------------------\u001b[39m",
      "\u001b[31mNameError\u001b[39m                                 Traceback (most recent call last)",
      "\u001b[36mCell\u001b[39m\u001b[36m \u001b[39m\u001b[32mIn[23]\u001b[39m\u001b[32m, line 4\u001b[39m\n\u001b[32m      1\u001b[39m \u001b[38;5;66;03m# step 2: compute transition counts/matrix >> adapting code from bach.py\u001b[39;00m\n\u001b[32m      2\u001b[39m \u001b[38;5;66;03m# REMEMBER, it's a normalized matrix\u001b[39;00m\n\u001b[32m----> \u001b[39m\u001b[32m4\u001b[39m S = \u001b[38;5;28mlen\u001b[39m(\u001b[43mstates\u001b[49m)\n\u001b[32m      5\u001b[39m \u001b[38;5;66;03m#T = len(bach)\u001b[39;00m\n\u001b[32m      6\u001b[39m tr_counts = np.zeros( (S, S) ) \u001b[38;5;66;03m# a 38 x 38 matrix of zeros\u001b[39;00m\n",
      "\u001b[31mNameError\u001b[39m: name 'states' is not defined"
     ]
    }
   ],
   "source": [
    "# step 2: compute transition counts/matrix >> adapting code from bach.py\n",
    "# REMEMBER, it's a normalized matrix\n",
    "\n",
    "S = len(states)\n",
    "#T = len(bach)\n",
    "tr_counts = np.zeros( (S, S) ) # a 38 x 38 matrix of zeros\n",
    "\n",
    "#print(tr_counts.shape)\n",
    "\n",
    "\n",
    "## Compute transition counts:\n",
    "for trip in data:\n",
    "    seq = np.array(trip)\n",
    "    for t in range(1,len(seq)): # check two lines down for why we start at 1\n",
    "\n",
    "        \"\"\"\n",
    "        you could also go from range(0, len(seq)-1):\n",
    "            # current state (rather than previous state)\n",
    "            # next state  (current state covered already)\n",
    "        \"\"\"\n",
    "\n",
    "        # Current and next tokens:\n",
    "        x_tm1 = seq[t-1] # previous state >> this is why we start at 1! bc we are collecting previous state.\n",
    "        x_t = seq[t] # current state\n",
    "        # Determine transition indices:\n",
    "        index_from = states.index(x_tm1)\n",
    "        index_to = states.index(x_t)\n",
    "        # Update transition counts:\n",
    "        tr_counts[index_to, index_from] += 1\n",
    "\n",
    "print('Transition Counts:\\n', tr_counts)"
   ]
  },
  {
   "cell_type": "code",
   "execution_count": null,
   "id": "e365ad49",
   "metadata": {},
   "outputs": [],
   "source": [
    "# Sum the transition counts by row >> numpy axis 0 is technically rows, but visually it's columns. \"rows\" is what we want\n",
    "sums = tr_counts.sum(axis=0, keepdims=True)\n",
    "#print('State proportions: \\n')\n",
    "\n",
    "# Normalize the transition count matrix to get proportions:\n",
    "tr_pr = np.divide(tr_counts, sums, \n",
    "                             out=np.zeros_like(tr_counts), \n",
    "                             where=sums!=0)\n",
    "\n",
    "#print('Transition Proportions:\\n')\n",
    "\n",
    "tr_df = pd.DataFrame(np.round(tr_pr,2), index=states, columns=states)\n",
    "print(tr_df)"
   ]
  },
  {
   "cell_type": "code",
   "execution_count": null,
   "id": "0fab696f",
   "metadata": {},
   "outputs": [],
   "source": [
    "# import numpy as np\n",
    "import pandas as pd\n",
    "import seaborn as sns\n",
    "import matplotlib.pyplot as plt\n",
    "import networkx as nx"
   ]
  },
  {
   "cell_type": "code",
   "execution_count": null,
   "id": "144f1e8e",
   "metadata": {},
   "outputs": [],
   "source": [
    "plt.figure(figsize=(12, 10))\n",
    "sns.heatmap(tr_pr, \n",
    "            cmap='Blues',    \n",
    "            square=True,          \n",
    "            xticklabels=states,\n",
    "            yticklabels=states,\n",
    "            cbar_kws={'label': 'Transition Probability'})\n",
    "\n",
    "plt.title('Transition Probabilities')\n",
    "plt.xlabel('...To State')\n",
    "plt.ylabel('From State...')\n",
    "plt.xticks(rotation=90)\n",
    "plt.yticks(rotation=0)\n",
    "plt.show()"
   ]
  },
  {
   "cell_type": "code",
   "execution_count": null,
   "id": "141d02c2",
   "metadata": {},
   "outputs": [],
   "source": [
    "print(states)\n",
    "for i in range(len(states)):\n",
    "    if states[i] == \"Hell's Kitchen\":\n",
    "        starting_point = i"
   ]
  },
  {
   "cell_type": "code",
   "execution_count": null,
   "id": "716baa88",
   "metadata": {},
   "outputs": [],
   "source": [
    "# Hell's Kitchen is at index 18 (starting at 0) >> saved as starting_point\n",
    "\n",
    "init = np.zeros(len(states)) # a 38 x 38 matrix of zeros\n",
    "init[starting_point] = 1\n",
    "print(init)"
   ]
  },
  {
   "cell_type": "code",
   "execution_count": null,
   "id": "9b2ed3da",
   "metadata": {},
   "outputs": [],
   "source": [
    "#tr_df is the transition matrix\n",
    "init2 = init\n",
    "for i in range(2):\n",
    "    init2 = tr_df @ init2\n",
    "#print(init2)"
   ]
  },
  {
   "cell_type": "code",
   "execution_count": null,
   "id": "e651199a",
   "metadata": {},
   "outputs": [],
   "source": [
    "# 3 5 10\n",
    "\n",
    "#tr_df is the transition matrix\n",
    "\n",
    "init3 = init\n",
    "\n",
    "for i in range(3):\n",
    "   init3 = tr_df@init3 \n",
    "\n",
    "#print(init3)"
   ]
  },
  {
   "cell_type": "code",
   "execution_count": null,
   "id": "16a5a7e6",
   "metadata": {},
   "outputs": [],
   "source": [
    "# 5 10\n",
    "\n",
    "#tr_df is the transition matrix\n",
    "\n",
    "init4 = init\n",
    "for i in range(5):\n",
    "   init4 = tr_df@init4 \n",
    "\n",
    "#print(init4)"
   ]
  },
  {
   "cell_type": "code",
   "execution_count": null,
   "id": "6aef8fcc",
   "metadata": {},
   "outputs": [],
   "source": [
    "# 10\n",
    "\n",
    "#tr_df is the transition matrix\n",
    "\n",
    "init5 = init\n",
    "\n",
    "for i in range(10):\n",
    "   init5 = tr_df@init5\n",
    "\n",
    "#print(init5)"
   ]
  },
  {
   "cell_type": "code",
   "execution_count": null,
   "id": "6d7f767d",
   "metadata": {},
   "outputs": [],
   "source": [
    "projections = pd.DataFrame({\"initial\": init,\n",
    "                            \"after 2 trips\": init2,\n",
    "                            \"after 3 trips\": init3,\n",
    "                            \"after 5 trips\": init4,\n",
    "                            \"after 10 trips\": init5})\n",
    "print(projections)"
   ]
  },
  {
   "cell_type": "code",
   "execution_count": null,
   "id": "c6753b0d",
   "metadata": {},
   "outputs": [],
   "source": [
    "# starting neighborhood: \"Upper West Side\"\n",
    "\n",
    "#print(states)\n",
    "for i in range(len(states)):\n",
    "    if states[i] == \"Upper West Side\":\n",
    "        starting_point2 = i"
   ]
  },
  {
   "cell_type": "code",
   "execution_count": null,
   "id": "c771479f",
   "metadata": {},
   "outputs": [],
   "source": [
    "#tr_df is the transition matrix\n",
    "\n",
    "init_part2 = np.zeros(len(states))\n",
    "init_part2[starting_point2] = 1\n",
    "\n",
    "#init_part2"
   ]
  },
  {
   "cell_type": "code",
   "execution_count": null,
   "id": "4ddb4bd2",
   "metadata": {},
   "outputs": [],
   "source": [
    "longRange = []\n",
    "\n",
    "for i in range(100):\n",
    "    init_part2 = tr_df @ init_part2\n",
    "    longRange.append(init_part2)\n",
    "\n",
    "longRange2 = pd.DataFrame(longRange)\n",
    "#longRange2.head"
   ]
  },
  {
   "cell_type": "code",
   "execution_count": null,
   "id": "beea22a5",
   "metadata": {},
   "outputs": [],
   "source": [
    "longRange2[\"Upper West Side\"]"
   ]
  },
  {
   "cell_type": "code",
   "execution_count": null,
   "id": "b84d4d60",
   "metadata": {},
   "outputs": [],
   "source": [
    "maxVal = np.max(longRange2.loc[99,:])\n",
    "#maxVal\n",
    "\n",
    "for i in range(len(longRange2.loc[99,:])):\n",
    "    if longRange2.iloc[99,i] == maxVal:\n",
    "        print(states[i])"
   ]
  }
 ],
 "metadata": {
  "kernelspec": {
   "display_name": "base",
   "language": "python",
   "name": "python3"
  },
  "language_info": {
   "codemirror_mode": {
    "name": "ipython",
    "version": 3
   },
   "file_extension": ".py",
   "mimetype": "text/x-python",
   "name": "python",
   "nbconvert_exporter": "python",
   "pygments_lexer": "ipython3",
   "version": "3.13.0"
  }
 },
 "nbformat": 4,
 "nbformat_minor": 5
}
